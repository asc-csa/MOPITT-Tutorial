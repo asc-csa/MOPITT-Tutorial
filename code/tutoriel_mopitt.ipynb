{
 "cells": [
  {
   "cell_type": "markdown",
   "id": "cell-0",
   "metadata": {},
   "source": [
    "# Tutoriel MOPITT - Extraction de données et visualisation\n",
    "***\n",
    "\n",
    "**Tutoriel :** Ce tutoriel fournit un guide étape par étape pour extraire des données du Portail de Données Ouvertes de l'Agence spatiale canadienne. </br>\n",
    "**Mission et Instrument :** MOPITT  \n",
    "**Cible Astronomique :** Mesure du monoxyde de carbone dans la troposphère  \n",
    "**Exigences du système :** Python 3.8 ou ultérieur  \n",
    "**Niveau du tutoriel :** Basique  \n",
    "\n",
    "Le but de ce tutoriel est d'aider à démontrer le processus d'accès aux données MOPITT, de les préparer pour utilisation, et de montrer quelques analyses de données de base et visualisation en utilisant les données MOPITT à bord de Terra. Ce tutoriel utilise des mesures de monoxyde de carbone dans la troposphère comme données d'analyse."
   ]
  },
  {
   "cell_type": "markdown",
   "id": "cell-1",
   "metadata": {},
   "source": [
    "### Importation des bibliothèques requises et chargement des données"
   ]
  },
  {
   "cell_type": "code",
   "execution_count": null,
   "id": "cell-2",
   "metadata": {},
   "outputs": [],
   "source": [
    "import pandas as pd\n",
    "import numpy as np\n",
    "from shapely.geometry import Point\n",
    "import geopandas as gpd\n",
    "from geopandas import GeoDataFrame"
   ]
  },
  {
   "cell_type": "code",
   "execution_count": null,
   "id": "cell-3",
   "metadata": {},
   "outputs": [],
   "source": [
    "# Load data from the Open Data Portal\n",
    "df = pd.DataFrame()\n",
    "for day in range(1,4):\n",
    "    try:\n",
    "        df_tmp = pd.read_csv(f'https://data.asc-csa.gc.ca/users/OpenData_DonneesOuvertes/pub/MOPITT/2019/MOP02J-201901{str(day).zfill(2)}-L2V18.0.3.csv', engine='python')\n",
    "    except Exception:\n",
    "        continue\n",
    "    df = pd.concat([df, df_tmp])"
   ]
  },
  {
   "cell_type": "code",
   "execution_count": null,
   "id": "cell-4",
   "metadata": {},
   "outputs": [],
   "source": [
    "# Display the first rows to make sure everything is good\n",
    "df.head()"
   ]
  },
  {
   "cell_type": "code",
   "execution_count": null,
   "id": "cell-5",
   "metadata": {},
   "outputs": [],
   "source": [
    "# Get the geo data\n",
    "geometry = [Point(xy) for xy in zip(df[' Longitude'], df['# Latitude'])]\n",
    "gdf = GeoDataFrame(df[' COTotalColumn'], geometry=geometry)\n",
    "gdf.head()"
   ]
  },
  {
   "cell_type": "code",
   "execution_count": null,
   "id": "cell-6",
   "metadata": {},
   "outputs": [],
   "source": [
    "# Filter the concentration of carbon monoxide\n",
    "d = gdf[' COTotalColumn'].values\n",
    "t = d.mean() + (5 * d.std())\n",
    "gdf_2 = gdf[gdf[' COTotalColumn'] < t]"
   ]
  },
  {
   "cell_type": "markdown",
   "id": "cell-7",
   "metadata": {},
   "source": [
    "### Affichage de la concentration du monoxyde de carbone"
   ]
  },
  {
   "cell_type": "code",
   "execution_count": null,
   "id": "cell-8",
   "metadata": {},
   "outputs": [],
   "source": [
    "# Display the concentration of carbon monoxide\n",
    "world = gpd.read_file(gpd.datasets.get_path('naturalearth_lowres'))\n",
    "gdf_2.plot(ax=world.plot(figsize=(14, 9)), column=' COTotalColumn', cmap='Greys', alpha=0.5);"
   ]
  },
  {
   "cell_type": "markdown",
   "id": "cell-9",
   "metadata": {},
   "source": [
    "### Deuxième scénario - Chargement de données"
   ]
  },
  {
   "cell_type": "code",
   "execution_count": null,
   "id": "cell-10",
   "metadata": {},
   "outputs": [],
   "source": [
    "import matplotlib as mpl\n",
    "import matplotlib.pyplot as plt\n",
    "from mpl_toolkits.basemap import Basemap\n",
    "\n",
    "#lecture des données / Read data\n",
    "data = np.loadtxt('https://data.asc-csa.gc.ca/users/OpenData_DonneesOuvertes/pub/MOPITT/2018/MOP02J-20181206-L2V18.0.3.csv', delimiter=',', skiprows=0).T \n",
    "\n",
    "lat,long = data[0:2]    #Latitude + Longitude\n",
    "COTotalColumn = data[2] #CO total\n",
    "COMR_Surface = data[3]  #CO Mixing Ratio Surface\n",
    "COMR_Profile = data[4:-1]   #CO Mixing Ratio profile (900hPa-100hPa)\n",
    "RetrievedSurfaceTemperature = data[-1]  #Retrieved Surface Temperature"
   ]
  },
  {
   "cell_type": "markdown",
   "id": "cell-11",
   "metadata": {},
   "source": [
    "### Affichage de la concentration du monoxyde de carbone"
   ]
  },
  {
   "cell_type": "code",
   "execution_count": null,
   "id": "cell-12",
   "metadata": {},
   "outputs": [],
   "source": [
    "# VISUALISATION GRAPHIQUE DE LA COLONNE TOTALE DU CO SUR CARTE DU MONDE AVEC BASEMAP\n",
    "# DATA VISUALIZATION OF CO TOTAL COLUMN ON WORLD MAP USING BASEMAP\n",
    "m = Basemap(projection='cyl', resolution='l',\n",
    "            llcrnrlat=-90, urcrnrlat=90,\n",
    "            llcrnrlon=-180, urcrnrlon=180)\n",
    "m.drawcoastlines(linewidth=0.5)\n",
    "m.drawparallels(np.arange(-90, 91, 45))\n",
    "m.drawmeridians(np.arange(-180, 180, 45), labels=[True,False,False,True])\n",
    "sc = m.scatter(long, lat, c=COTotalColumn, s=1, cmap=plt.cm.jet, edgecolors=None, linewidth=0)\n",
    "cb = m.colorbar()\n",
    "cb.set_label('mol/cm^2')\n",
    "                        \n",
    "plt.title('CONCENTRATION OF CARBON MONOXIDE')\n",
    "fig = plt.gcf()\n",
    "plt.show()"
   ]
  },
  {
   "cell_type": "code",
   "execution_count": null,
   "id": "cell-13",
   "metadata": {},
   "outputs": [],
   "source": []
  }
 ],
 "metadata": {
  "kernelspec": {
   "display_name": "Python 3",
   "language": "python",
   "name": "python3"
  },
  "language_info": {
   "codemirror_mode": {
    "name": "ipython",
    "version": 3
   },
   "file_extension": ".py",
   "mimetype": "text/x-python",
   "name": "python",
   "nbconvert_exporter": "python",
   "pygments_lexer": "ipython3",
   "version": "3.8.5"
  }
 },
 "nbformat": 4,
 "nbformat_minor": 4
}